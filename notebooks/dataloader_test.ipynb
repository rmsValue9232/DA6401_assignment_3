{
 "cells": [
  {
   "cell_type": "code",
   "execution_count": 1,
   "id": "f3ea7617",
   "metadata": {},
   "outputs": [],
   "source": [
    "import sys\n",
    "import os"
   ]
  },
  {
   "cell_type": "code",
   "execution_count": 2,
   "id": "22a39c1b",
   "metadata": {},
   "outputs": [],
   "source": [
    "import dataloader"
   ]
  },
  {
   "cell_type": "code",
   "execution_count": 3,
   "id": "f19bf0fb",
   "metadata": {},
   "outputs": [
    {
     "data": {
      "text/plain": [
       "['hi.translit.sampled.dev.tsv',\n",
       " 'hi.translit.sampled.test.tsv',\n",
       " 'hi.translit.sampled.train.tsv']"
      ]
     },
     "execution_count": 3,
     "metadata": {},
     "output_type": "execute_result"
    }
   ],
   "source": [
    "os.listdir('../data')"
   ]
  },
  {
   "cell_type": "code",
   "execution_count": 4,
   "id": "92e2f30d",
   "metadata": {},
   "outputs": [],
   "source": [
    "BASE_PATH = '../data'"
   ]
  },
  {
   "cell_type": "code",
   "execution_count": 5,
   "id": "7ac6478e",
   "metadata": {},
   "outputs": [],
   "source": [
    "ddm = dataloader.DakshinaDataModule(\n",
    "    train_file = os.path.join(BASE_PATH, 'hi.translit.sampled.train.tsv'),\n",
    "    val_file = os.path.join(BASE_PATH, 'hi.translit.sampled.dev.tsv'),\n",
    "    test_file = os.path.join(BASE_PATH, 'hi.translit.sampled.test.tsv'),\n",
    ")"
   ]
  },
  {
   "cell_type": "code",
   "execution_count": 6,
   "id": "a8cf0d7b",
   "metadata": {},
   "outputs": [],
   "source": [
    "ddm.setup()"
   ]
  },
  {
   "cell_type": "code",
   "execution_count": 7,
   "id": "1968ecc6",
   "metadata": {},
   "outputs": [
    {
     "data": {
      "text/plain": [
       "{'src': tensor([1, 3, 4, 2]), 'tgt': tensor([1, 3, 4, 2])}"
      ]
     },
     "execution_count": 7,
     "metadata": {},
     "output_type": "execute_result"
    }
   ],
   "source": [
    "ddm.train_dataset[0]"
   ]
  },
  {
   "cell_type": "code",
   "execution_count": 11,
   "id": "af866dfc",
   "metadata": {},
   "outputs": [
    {
     "name": "stdout",
     "output_type": "stream",
     "text": [
      "Batch 0:\n",
      "  src_input: torch.Size([32, 13])\n",
      "  src_len: torch.Size([32])\n",
      "  tgt_input: torch.Size([32, 12])\n",
      "  tgt_len: torch.Size([32])\n",
      "  tgt_output: torch.Size([32, 12])\n",
      "Batch 1:\n",
      "  src_input: torch.Size([32, 15])\n",
      "  src_len: torch.Size([32])\n",
      "  tgt_input: torch.Size([32, 19])\n",
      "  tgt_len: torch.Size([32])\n",
      "  tgt_output: torch.Size([32, 19])\n"
     ]
    }
   ],
   "source": [
    "for i, batch in enumerate(ddm.train_dataloader()):\n",
    "    if i == 2:\n",
    "        break\n",
    "    print(f'Batch {i}:')\n",
    "    for k, v in batch.items():\n",
    "        print(f'  {k}: {v.shape}')"
   ]
  },
  {
   "cell_type": "code",
   "execution_count": 12,
   "id": "e406c818",
   "metadata": {},
   "outputs": [
    {
     "data": {
      "text/plain": [
       "tensor([[ 1, 36, 12, 18,  5, 10,  2,  0,  0,  0,  0,  0,  0],\n",
       "        [ 1, 10, 20, 17, 20, 12, 18, 50,  8, 23, 24,  4,  2],\n",
       "        [ 1, 12, 31, 20, 15, 20,  2,  0,  0,  0,  0,  0,  0],\n",
       "        [ 1,  9, 20,  5,  9,  2,  0,  0,  0,  0,  0,  0,  0],\n",
       "        [ 1, 31,  8,  4, 37, 18, 23,  2,  0,  0,  0,  0,  0],\n",
       "        [ 1, 57, 10, 18, 40, 11, 28,  8, 15,  2,  0,  0,  0],\n",
       "        [ 1, 23, 11, 31,  5,  2,  0,  0,  0,  0,  0,  0,  0],\n",
       "        [ 1, 52, 16, 10, 15, 21,  2,  0,  0,  0,  0,  0,  0],\n",
       "        [ 1,  6, 30, 18, 51, 20,  2,  0,  0,  0,  0,  0,  0],\n",
       "        [ 1, 31, 16, 36, 18, 29, 10, 38,  4, 30,  2,  0,  0],\n",
       "        [ 1, 13, 18, 12, 16, 19, 18, 22,  9, 20,  2,  0,  0],\n",
       "        [ 1, 15, 20, 29,  5, 24,  4,  2,  0,  0,  0,  0,  0],\n",
       "        [ 1,  5, 20, 12, 18, 23, 40, 10,  2,  0,  0,  0,  0],\n",
       "        [ 1, 36, 25, 43,  2,  0,  0,  0,  0,  0,  0,  0,  0],\n",
       "        [ 1,  5, 11,  4, 14, 15,  2,  0,  0,  0,  0,  0,  0],\n",
       "        [ 1, 27, 20, 33,  9, 20,  2,  0,  0,  0,  0,  0,  0],\n",
       "        [ 1, 50, 20, 15, 20, 37, 18, 23,  5, 18, 19,  2,  0],\n",
       "        [ 1,  3, 34, 31, 20, 14, 24,  4,  2,  0,  0,  0,  0],\n",
       "        [ 1, 26, 30, 39, 20,  2,  0,  0,  0,  0,  0,  0,  0],\n",
       "        [ 1, 26, 20, 15,  9, 16,  2,  0,  0,  0,  0,  0,  0],\n",
       "        [ 1, 36,  4, 31, 16, 14,  5,  2,  0,  0,  0,  0,  0],\n",
       "        [ 1, 12, 20, 31,  9, 34, 11, 12,  2,  0,  0,  0,  0],\n",
       "        [ 1, 44, 20, 15,  2,  0,  0,  0,  0,  0,  0,  0,  0],\n",
       "        [ 1,  3,  4, 13,  5, 20, 10,  8,  5,  2,  0,  0,  0],\n",
       "        [ 1, 48, 18, 10, 25, 29,  2,  0,  0,  0,  0,  0,  0],\n",
       "        [ 1, 54, 31, 20, 36, 21, 23,  2,  0,  0,  0,  0,  0],\n",
       "        [ 1, 13,  5, 18,  9,  8, 34, 21, 22, 24,  4,  2,  0],\n",
       "        [ 1, 13,  8, 27, 11, 54, 15,  2,  0,  0,  0,  0,  0],\n",
       "        [ 1, 13, 18, 12, 21, 33, 21, 15,  2,  0,  0,  0,  0],\n",
       "        [ 1, 40, 14, 10, 15, 20,  2,  0,  0,  0,  0,  0,  0],\n",
       "        [ 1, 12, 33, 15, 36, 33, 15,  2,  0,  0,  0,  0,  0],\n",
       "        [ 1,  3, 27,  4, 17,  8,  9,  2,  0,  0,  0,  0,  0]])"
      ]
     },
     "execution_count": 12,
     "metadata": {},
     "output_type": "execute_result"
    }
   ],
   "source": [
    "batch0 = next(iter(ddm.train_dataloader()))\n",
    "batch0['src_input']"
   ]
  },
  {
   "cell_type": "code",
   "execution_count": null,
   "id": "94a599fe",
   "metadata": {},
   "outputs": [],
   "source": []
  }
 ],
 "metadata": {
  "kernelspec": {
   "display_name": "lightningML",
   "language": "python",
   "name": "python3"
  },
  "language_info": {
   "codemirror_mode": {
    "name": "ipython",
    "version": 3
   },
   "file_extension": ".py",
   "mimetype": "text/x-python",
   "name": "python",
   "nbconvert_exporter": "python",
   "pygments_lexer": "ipython3",
   "version": "3.9.21"
  }
 },
 "nbformat": 4,
 "nbformat_minor": 5
}
